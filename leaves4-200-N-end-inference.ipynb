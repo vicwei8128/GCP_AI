{
 "cells": [
  {
   "cell_type": "code",
   "execution_count": null,
   "id": "acf3c995",
   "metadata": {},
   "outputs": [],
   "source": [
    "import os\n",
    "\n",
    "import predict_image_classification_sample as p\n",
    "\n",
    "YOUT_PROJECT = 'YOUR_PROJECT'\n",
    "YOUR_ENDPOINT = 'YOUR_ENDPOINT'\n",
    "YOUR_PIC = 'pp.jpg'\n",
    "YOUR_SERVICE = 'YOUR_SERVICE'\n",
    "\n",
    "os.environ['GOOGLE_APPLICATION_CREDENTIALS'] = YOUR_SERVICE\n",
    "p.predict_image_classification_sample(YOUT_PROJECT, YOUR_ENDPOINT, YOUR_PIC)"
   ]
  },
  {
   "cell_type": "code",
   "execution_count": null,
   "id": "707b89f2",
   "metadata": {},
   "outputs": [],
   "source": [
    "YOUR_PIC = 'ae.jpg'\n",
    "p.predict_image_classification_sample(YOUT_PROJECT, YOUR_ENDPOINT, YOUR_PIC)"
   ]
  },
  {
   "cell_type": "code",
   "execution_count": null,
   "id": "5a97607a",
   "metadata": {},
   "outputs": [],
   "source": []
  }
 ],
 "metadata": {
  "kernelspec": {
   "display_name": "Python 3",
   "language": "python",
   "name": "python3"
  },
  "language_info": {
   "codemirror_mode": {
    "name": "ipython",
    "version": 3
   },
   "file_extension": ".py",
   "mimetype": "text/x-python",
   "name": "python",
   "nbconvert_exporter": "python",
   "pygments_lexer": "ipython3",
   "version": "3.6.8"
  }
 },
 "nbformat": 4,
 "nbformat_minor": 5
}
